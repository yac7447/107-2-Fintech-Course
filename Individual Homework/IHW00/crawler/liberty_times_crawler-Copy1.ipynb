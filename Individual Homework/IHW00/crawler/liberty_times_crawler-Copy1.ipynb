{
 "cells": [
  {
   "cell_type": "markdown",
   "metadata": {},
   "source": [
    "#### Observe that we can get news of a day with the link format:\n",
    "http://news.ltn.com.tw/list/newspaper/politics/20181231\n",
    "#### We need a list of date string in the date range we want."
   ]
  },
  {
   "cell_type": "code",
   "execution_count": 10,
   "metadata": {},
   "outputs": [],
   "source": [
    "from datetime import datetime, timedelta\n",
    "\n",
    "start_date = \"2018-11-15\"\n",
    "stop_date = \"2018-11-30\"\n",
    "\n",
    "start = datetime.strptime(start_date, \"%Y-%m-%d\")\n",
    "stop = datetime.strptime(stop_date, \"%Y-%m-%d\")\n",
    "\n",
    "dates = list()\n",
    "while start <= stop:\n",
    "    dates.append(start.strftime('%Y%m%d'))\n",
    "    start = start + timedelta(days=1)\n"
   ]
  },
  {
   "cell_type": "markdown",
   "metadata": {},
   "source": [
    "#### Now write a function to parse the HTML response, return the data we want(title, content, ...etc)."
   ]
  },
  {
   "cell_type": "code",
   "execution_count": 11,
   "metadata": {},
   "outputs": [],
   "source": [
    "import requests\n",
    "from bs4 import BeautifulSoup as bs"
   ]
  },
  {
   "cell_type": "code",
   "execution_count": 12,
   "metadata": {},
   "outputs": [],
   "source": [
    "def process_document(document, date):\n",
    "    \n",
    "    nodes = document.select('ul.list > li')\n",
    "    data = list()\n",
    "\n",
    "    for li in nodes:\n",
    "\n",
    "        # check if is empty element\n",
    "        if li.select_one('a') == None:\n",
    "            continue\n",
    "\n",
    "        # get link\n",
    "        li_link = 'http://news.ltn.com.tw/' + li.select_one('a')['href']\n",
    "\n",
    "        # request for document\n",
    "        li_res = requests.get(li_link)\n",
    "        li_doc = bs(li_res.text, 'lxml')\n",
    "\n",
    "        # get date\n",
    "        li_date = datetime.strptime(date, \"%Y%m%d\").strftime('%Y-%m-%d')\n",
    "\n",
    "        #get title\n",
    "        li_title = li.select_one('p').get_text()\n",
    "\n",
    "        #get content\n",
    "        li_content = \"\"\n",
    "        for ele in li_doc.select('div.text > p'):\n",
    "            if not 'appE1121' in ele.get('class', []):\n",
    "                li_content += ele.get_text()\n",
    "\n",
    "        # append new row\n",
    "        data.append({\n",
    "            'date' : li_date,\n",
    "            'title': li_title,\n",
    "            'link' : li_link,\n",
    "            'content' : li_content,\n",
    "            'tags' : []\n",
    "        })\n",
    "    return data"
   ]
  },
  {
   "cell_type": "markdown",
   "metadata": {},
   "source": [
    "#### Crawl over the news on the site, store the data in variable \"all_data\" ."
   ]
  },
  {
   "cell_type": "code",
   "execution_count": 13,
   "metadata": {},
   "outputs": [
    {
     "name": "stdout",
     "output_type": "stream",
     "text": [
      "start crawling : 20181115\n",
      "start crawling : 20181116\n",
      "start crawling : 20181117\n",
      "start crawling : 20181118\n",
      "start crawling : 20181119\n",
      "start crawling : 20181120\n",
      "start crawling : 20181121\n",
      "start crawling : 20181122\n",
      "start crawling : 20181123\n",
      "start crawling : 20181124\n",
      "start crawling : 20181125\n",
      "start crawling : 20181126\n",
      "start crawling : 20181127\n",
      "start crawling : 20181128\n",
      "start crawling : 20181129\n",
      "start crawling : 20181130\n"
     ]
    }
   ],
   "source": [
    "cnt = 0\n",
    "all_data = list()\n",
    "for date in dates:\n",
    "    print('start crawling :', date)\n",
    "    res = requests.get('https://news.ltn.com.tw/list/newspaper/politics/' + date)\n",
    "    doc = bs(res.text, 'lxml')\n",
    "    data = process_document(doc, date)\n",
    "    all_data += data"
   ]
  },
  {
   "cell_type": "markdown",
   "metadata": {},
   "source": [
    "#### Check the result"
   ]
  },
  {
   "cell_type": "code",
   "execution_count": 14,
   "metadata": {},
   "outputs": [
    {
     "data": {
      "text/plain": [
       "[{'date': '2018-11-15',\n",
       "  'title': '侯補繳稅 蘇酸沒欠為何要補',\n",
       "  'link': 'http://news.ltn.com.tw/news/politics/paper/1246946',\n",
       "  'content': '〔記者李雅雯、何玉華、陳心瑜、彭琬馨／綜合報導〕民進黨新北市長候選人蘇貞昌繼續抨擊國民黨市長候選人侯友宜在文大大群館逃漏稅、新莊購地案等，對於侯友宜解釋是主動補繳稅，蘇貞昌質疑說，「沒有欠稅為什麼要補繳？這不是自打嘴巴嗎？」他表示選舉真的是照妖鏡，經過選舉才發現侯友宜這麼有錢，有大房子還逃漏稅，在副市長任內買新莊土地等待都更，他呼籲選民檢驗候選人的理財態度。民進黨立委段宜康昨也指責侯友宜「公然說謊」，指又昱「若沒有欠，為何要補？若有補，表示有欠（稅）」，呼籲侯友宜儘快出面釐清事實。蘇貞昌則指出，他參選不是為了爭取一個職位，而是爭取為新北市改變的機會。過去擔任台北縣長時，開發超過一千公頃的土地，沒有購買一寸土地，他請市民選擇「在各地開發土地而不買地」的人，或「在位子上經營自家財產、買地大賺錢」的人。對於侯友宜反擊蘇貞昌也繼承一千坪的土地，蘇回應說，他在屏東的農地是父親過世後繼承而來，地上種的是廿年的樹，是用來養樹、種樹的農地，一坪一萬元；侯友宜在新莊買地一坪近五十萬元，而且是在副市長任內購地，還沒當選就開始買地、養地，將來做了首長還得了，上位者若這樣做，底下的人可能就更誇張了。蘇貞昌的發言人黃韋鈞說，根據最新土地公告現值，蘇繼承的農地，每平方公尺僅五千元，但侯家在新莊的土地是住宅區，每平方公尺十三．六萬元，離新莊捷運站直線距離僅四百五十公尺，是精華地段住宅用地，兩者無法比擬。對於侯友宜指「下跪催票」是民進黨的招數，蘇貞昌怒批說「我聽了很憤怒」，盧修一受盡國民黨欺凌、坐過苦牢，在罹癌化療那麼痛苦的最後，下跪拜託台北縣民要選對人；他非常感謝盧修一，對於這樣的民主前輩，侯怎麼好意思嘲笑？侯當年對盧噴辣椒水、強押上車，如今不知反省，竟然諷刺、污辱民主前輩，「我真的很不屑」。',\n",
       "  'tags': []},\n",
       " {'date': '2018-11-15',\n",
       "  'title': '大群館、購地案遭圍攻 侯︰「東西南北廠」蜂擁而至',\n",
       "  'link': 'http://news.ltn.com.tw/news/politics/paper/1246947',\n",
       "  'content': '〔記者賴筱桐、李雅雯／新北報導〕民進黨新北市長候選人蘇貞昌抨擊國民黨市長候選人侯友宜，在文化大學大群館逃漏稅、新莊購地「養地等都更利益」，侯友宜陣營昨天反擊蘇貞昌也繼承一千坪的土地，增值部分超過八百萬元，並非蘇所說的一坪一萬元；侯友宜表示，雖然行政院、立法院、監察院圍攻他，東廠、西廠、南北廠蜂擁而至，但他堅持用正向的力量來打倒抹黑奧步。侯友宜表示，「我有這麼偉大嗎？偉大到這些院都變成東廠、西廠、南北廠」，他請求選民投票支持，「終結東南西北廠」，讓蔡英文總統好好反省，人民希望的是正步的選舉，不要一堆抹黑跟奧步。對於立委段宜康再三質疑新莊購地案疑雲重重，侯友宜說，段宜康的話都是抹黑造謠，「欠人家好幾顆曲棍球，一顆也沒吞」，反嗆段「先吞完曲棍球再說吧！」媒體詢問是否願跟段宜康打賭？侯說：「他都沒有吞半顆，還賭什麼？」侯友宜表示，新莊購地案已清楚交代，因為房屋佔到別人的土地，所以買三十六坪地，辦理信託並依法申報財產，算什麼炒地皮？他反擊老縣長也繼承一千坪的土地，這又怎麼說？侯友宜發言人侯慶莉補充說，蘇名下位在台二十七線旁的土地，依公告現值計算，增值就超過八百萬元，並非蘇所說的一坪一萬元而已，老縣長難道不該向市民說清楚？侯友宜並說，他有時看政論節目，看久了之後，也會認為名嘴說的都是對的，智商彷彿也降低，這道理很簡單，假設一件事有九十九％是對的，一％是錯的，「只要把錯的一％放大，就變成所有都是錯的」。外傳侯友宜的妻子將在選前之夜下跪催票，侯友宜否認此事，反問「是誰曾經跪下來？」（指蘇貞昌先前競選台北縣長，已故立委盧修一則在選前之夜下跪），這種招數只有對手才會用，外界不實的謠言是搞錯對象。',\n",
       "  'tags': []},\n",
       " {'date': '2018-11-15',\n",
       "  'title': '嘉市議會「保護」涉賄副議長／法部︰仍可境管 避免郭明賓逃亡',\n",
       "  'link': 'http://news.ltn.com.tw/news/politics/paper/1246948',\n",
       "  'content': '〔記者吳政峰／台北報導〕嘉義地檢署懷疑嘉義市議會副議長郭明賓涉賄選，發函嘉義市議會，要求同意於開議期間逮捕郭，但議會昨決議「不同意」，替郭撐起保護傘。法務部表示，雖然議會依法有權這麼做，但若檢察官將郭列為被告並限制出境，郭仍得接受境管。法務部指出，「地方制度法」規定，議員除了現行犯或通緝犯以外，於會期內，非經議會同意，不得逮捕或拘禁，俗稱「保護傘」，嘉市議會依法可不同意檢方於開議期間逮捕議員，一旦會期結束，郭明賓仍得接受調查。法務部強調，保護傘僅限於不得逮捕或拘禁，若檢察官認為郭的賄選行為已達合理懷疑，足夠列為被告時，仍可予以境管，避免他逃亡。嘉檢獲報，郭明賓的樁腳涉嫌以每票一千元行賄選民，立刻發動偵查，已聲押兩名樁腳獲准，訊後懷疑郭亦涉案，十日搜索他的競選總部，未料他早於六日就前往中國，等到嘉市議會十二日開議才返台，議會則替他撐起保護傘。他澄清未賄選，也沒有落跑，將全力配合司法調查。',\n",
       "  'tags': []},\n",
       " {'date': '2018-11-15',\n",
       "  'title': '凱聚炒股案被提訊 傅崐萁哭求回花蓮',\n",
       "  'link': 'http://news.ltn.com.tw/news/politics/paper/1246949',\n",
       "  'content': '〔記者楊國文／台北報導〕有「花蓮王」稱號的前花蓮縣長傅崐萁，因合機炒股案被判八月，已入獄一個半月，高等法院更三審又以傅涉凱聚炒股案，昨提訊他進行言詞辯論庭。傅「戴手銬、理平頭」現身法庭，他否認不法，卻哽咽請求「我想回花蓮」，希望還監花蓮監獄，並希望正競選花蓮縣長的太太徐榛蔚別來看他。更三審當庭裁准傅的請求，諭知今就將傅還監花蓮監獄，並訂十一月廿六日上午九時進行辯論。傅失聲哭泣道謝，退庭前，還特別走到法庭正中央對合議庭三法官行九十度鞠躬。高院上月卅日將傅從花蓮監獄移監到台北看守所，昨自北所提訊傅崐萁。傅較入獄前略顯清瘦，理平頭，雖戴著手銬，卻以厚厚的文件技術性的遮擋住手銬，對媒體詢問均未回應。傅崐萁被控於一九九八年間，與時任台鳳公司負責人黃宗宏及已故股市金主黃任中等人集資炒作凱聚、昱成、長億及華隆公司股票，一審被判六年徒刑，更二審改判三年徒刑。',\n",
       "  'tags': []},\n",
       " {'date': '2018-11-15',\n",
       "  'title': '投票前夕網上拉票 不能超過深夜12點',\n",
       "  'link': 'http://news.ltn.com.tw/news/politics/paper/1246950',\n",
       "  'content': '〔記者李欣芳／台北報導〕九合一選舉投票前一晚十時競選活動結束後，能否進行網路直播，或在臉書等社群網路進行拉票？中選會昨表示，依選罷法第五十六條第一項的規定，政黨及任何人不得在晚間十時後從事公開競選或助選活動，但「不妨礙居民生活或社會安寧之活動，不在此限」。因此二十三日投票前一晚的十時到十二時，進行網路直播或臉書拉票並不違法。不過，中選會強調，二十三日當晚過十二時，就是二十四日的投票日，不得有任何競、助選行為。年底選舉有十個公投案合併投票，已有不少民眾反映公投案難以讀懂，若有民眾搞不清公投案，能否帶小抄進投票所？中選會發言人陳朝建說，過去曾有函釋，小抄（如投票指南）若易被誤認為公投票者，不可帶入投票所；若沒有被誤認疑慮者，雖可帶入，但不可留置於圈票處或投票所內。勿公然攜入或勿公然展示所攜帶小抄，以免觸法。',\n",
       "  'tags': []}]"
      ]
     },
     "execution_count": 14,
     "metadata": {},
     "output_type": "execute_result"
    }
   ],
   "source": [
    "all_data[0:5]"
   ]
  },
  {
   "cell_type": "markdown",
   "metadata": {},
   "source": [
    "#### Save as pkl file"
   ]
  },
  {
   "cell_type": "code",
   "execution_count": 15,
   "metadata": {},
   "outputs": [],
   "source": [
    "import pickle\n",
    "\n",
    "with open('data/liberty_times_copy_1.pkl', 'wb') as f:\n",
    "    pickle.dump(all_data, f)"
   ]
  },
  {
   "cell_type": "markdown",
   "metadata": {},
   "source": [
    "#### Turn it into pandas dataframe"
   ]
  },
  {
   "cell_type": "code",
   "execution_count": 16,
   "metadata": {},
   "outputs": [
    {
     "data": {
      "text/html": [
       "<div>\n",
       "<style scoped>\n",
       "    .dataframe tbody tr th:only-of-type {\n",
       "        vertical-align: middle;\n",
       "    }\n",
       "\n",
       "    .dataframe tbody tr th {\n",
       "        vertical-align: top;\n",
       "    }\n",
       "\n",
       "    .dataframe thead th {\n",
       "        text-align: right;\n",
       "    }\n",
       "</style>\n",
       "<table border=\"1\" class=\"dataframe\">\n",
       "  <thead>\n",
       "    <tr style=\"text-align: right;\">\n",
       "      <th></th>\n",
       "      <th>date</th>\n",
       "      <th>title</th>\n",
       "      <th>link</th>\n",
       "      <th>content</th>\n",
       "      <th>tags</th>\n",
       "    </tr>\n",
       "  </thead>\n",
       "  <tbody>\n",
       "    <tr>\n",
       "      <th>0</th>\n",
       "      <td>2018-11-15</td>\n",
       "      <td>侯補繳稅 蘇酸沒欠為何要補</td>\n",
       "      <td>http://news.ltn.com.tw/news/politics/paper/124...</td>\n",
       "      <td>〔記者李雅雯、何玉華、陳心瑜、彭琬馨／綜合報導〕民進黨新北市長候選人蘇貞昌繼續抨擊國民黨市長...</td>\n",
       "      <td>[]</td>\n",
       "    </tr>\n",
       "    <tr>\n",
       "      <th>1</th>\n",
       "      <td>2018-11-15</td>\n",
       "      <td>大群館、購地案遭圍攻 侯︰「東西南北廠」蜂擁而至</td>\n",
       "      <td>http://news.ltn.com.tw/news/politics/paper/124...</td>\n",
       "      <td>〔記者賴筱桐、李雅雯／新北報導〕民進黨新北市長候選人蘇貞昌抨擊國民黨市長候選人侯友宜，在文化...</td>\n",
       "      <td>[]</td>\n",
       "    </tr>\n",
       "    <tr>\n",
       "      <th>2</th>\n",
       "      <td>2018-11-15</td>\n",
       "      <td>嘉市議會「保護」涉賄副議長／法部︰仍可境管 避免郭明賓逃亡</td>\n",
       "      <td>http://news.ltn.com.tw/news/politics/paper/124...</td>\n",
       "      <td>〔記者吳政峰／台北報導〕嘉義地檢署懷疑嘉義市議會副議長郭明賓涉賄選，發函嘉義市議會，要求同意...</td>\n",
       "      <td>[]</td>\n",
       "    </tr>\n",
       "    <tr>\n",
       "      <th>3</th>\n",
       "      <td>2018-11-15</td>\n",
       "      <td>凱聚炒股案被提訊 傅崐萁哭求回花蓮</td>\n",
       "      <td>http://news.ltn.com.tw/news/politics/paper/124...</td>\n",
       "      <td>〔記者楊國文／台北報導〕有「花蓮王」稱號的前花蓮縣長傅崐萁，因合機炒股案被判八月，已入獄一個...</td>\n",
       "      <td>[]</td>\n",
       "    </tr>\n",
       "    <tr>\n",
       "      <th>4</th>\n",
       "      <td>2018-11-15</td>\n",
       "      <td>投票前夕網上拉票 不能超過深夜12點</td>\n",
       "      <td>http://news.ltn.com.tw/news/politics/paper/124...</td>\n",
       "      <td>〔記者李欣芳／台北報導〕九合一選舉投票前一晚十時競選活動結束後，能否進行網路直播，或在臉書等...</td>\n",
       "      <td>[]</td>\n",
       "    </tr>\n",
       "  </tbody>\n",
       "</table>\n",
       "</div>"
      ],
      "text/plain": [
       "         date                          title  \\\n",
       "0  2018-11-15                  侯補繳稅 蘇酸沒欠為何要補   \n",
       "1  2018-11-15       大群館、購地案遭圍攻 侯︰「東西南北廠」蜂擁而至   \n",
       "2  2018-11-15  嘉市議會「保護」涉賄副議長／法部︰仍可境管 避免郭明賓逃亡   \n",
       "3  2018-11-15              凱聚炒股案被提訊 傅崐萁哭求回花蓮   \n",
       "4  2018-11-15             投票前夕網上拉票 不能超過深夜12點   \n",
       "\n",
       "                                                link  \\\n",
       "0  http://news.ltn.com.tw/news/politics/paper/124...   \n",
       "1  http://news.ltn.com.tw/news/politics/paper/124...   \n",
       "2  http://news.ltn.com.tw/news/politics/paper/124...   \n",
       "3  http://news.ltn.com.tw/news/politics/paper/124...   \n",
       "4  http://news.ltn.com.tw/news/politics/paper/124...   \n",
       "\n",
       "                                             content tags  \n",
       "0  〔記者李雅雯、何玉華、陳心瑜、彭琬馨／綜合報導〕民進黨新北市長候選人蘇貞昌繼續抨擊國民黨市長...   []  \n",
       "1  〔記者賴筱桐、李雅雯／新北報導〕民進黨新北市長候選人蘇貞昌抨擊國民黨市長候選人侯友宜，在文化...   []  \n",
       "2  〔記者吳政峰／台北報導〕嘉義地檢署懷疑嘉義市議會副議長郭明賓涉賄選，發函嘉義市議會，要求同意...   []  \n",
       "3  〔記者楊國文／台北報導〕有「花蓮王」稱號的前花蓮縣長傅崐萁，因合機炒股案被判八月，已入獄一個...   []  \n",
       "4  〔記者李欣芳／台北報導〕九合一選舉投票前一晚十時競選活動結束後，能否進行網路直播，或在臉書等...   []  "
      ]
     },
     "execution_count": 16,
     "metadata": {},
     "output_type": "execute_result"
    }
   ],
   "source": [
    "import pandas as pd\n",
    "pd.DataFrame(all_data)[['date', 'title', 'link', 'content', 'tags']].head()"
   ]
  },
  {
   "cell_type": "code",
   "execution_count": null,
   "metadata": {},
   "outputs": [],
   "source": []
  },
  {
   "cell_type": "code",
   "execution_count": null,
   "metadata": {},
   "outputs": [],
   "source": []
  }
 ],
 "metadata": {
  "kernelspec": {
   "display_name": "Python 3",
   "language": "python",
   "name": "python3"
  },
  "language_info": {
   "codemirror_mode": {
    "name": "ipython",
    "version": 3
   },
   "file_extension": ".py",
   "mimetype": "text/x-python",
   "name": "python",
   "nbconvert_exporter": "python",
   "pygments_lexer": "ipython3",
   "version": "3.7.1"
  }
 },
 "nbformat": 4,
 "nbformat_minor": 2
}
